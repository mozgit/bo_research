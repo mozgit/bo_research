{
 "cells": [
  {
   "cell_type": "code",
   "id": "d309f2fde5623df",
   "metadata": {},
   "source": [
    "from benchmarking_framework import BenchmarkFramework\n",
    "from benchmarking_framework.algorithms import RandomSearch, GPOptimization, XGBLSSOptimization\n",
    "from benchmarking_framework.benchmarks import generate_quadratic_problem\n",
    "import logging\n",
    "\n",
    "problem = generate_quadratic_problem(n_categorical_dims = 5, n_continuous_dims = 5, n_starting_points=5)\n",
    "domain  = problem.domain\n",
    "\n",
    "# These settings are for testing only. They are not optimal.\n",
    "# Consider running without the opt_params argument for optimization by XGBLSSOptimization iteslf\n",
    "opt_params = {\n",
    "            \"eta\": 0.5,\n",
    "            \"max_depth\": 3,\n",
    "            \"min_child_weight\": 1,\n",
    "            \"subsample\": 0.5,\n",
    "            \"colsample_bytree\": 0.9,\n",
    "            \"gamma\": 6e-6,\n",
    "            \"n_rounds\": 10,\n",
    "            \"booster\": \"dart\"\n",
    "        }\n",
    "framework = BenchmarkFramework(problems=[problem],\n",
    "                               algorithms = [\n",
    "                                    RandomSearch(domain), \n",
    "                                    GPOptimization(domain), \n",
    "                                    XGBLSSOptimization(domain, opt_params = opt_params)], \n",
    "                               steps=10, directory=\"results\", overwrite=True, verbosity=logging.ERROR )\n",
    "\n",
    "framework.run_parallel(10)"
   ],
   "outputs": [],
   "execution_count": null
  },
  {
   "cell_type": "code",
   "id": "cae53f3e8e08c004",
   "metadata": {},
   "source": [
    "from benchmarking_framework.utils.post_processing import load_results, plot_results, plot_time_stats\n",
    "base_directory = \"results/5D Categorical (5 cat.) 5D Continuous 5 Starting Points\"\n",
    "results = load_results(base_directory)\n",
    "plot_results(results)\n",
    "plot_time_stats(results)"
   ],
   "outputs": [],
   "execution_count": null
  },
  {
   "cell_type": "code",
   "id": "f03086fba57d66a6",
   "metadata": {},
   "source": [
    "from benchmarking_framework import BenchmarkFramework\n",
    "from benchmarking_framework.algorithms import RandomSearch, GPOptimization, XGBLSSOptimization\n",
    "from benchmarking_framework.benchmarks import generate_quadratic_problem\n",
    "import logging\n",
    "\n",
    "problem = generate_quadratic_problem(n_categorical_dims = 5, n_continuous_dims = 5, n_starting_points=20)\n",
    "domain  = problem.domain\n",
    "\n",
    "framework = BenchmarkFramework(problems=[problem],\n",
    "                               algorithms = [\n",
    "                                    RandomSearch(domain), \n",
    "                                    GPOptimization(domain), \n",
    "                                    XGBLSSOptimization(domain)], \n",
    "                               steps=10, directory=\"results\", overwrite=True, verbosity=logging.ERROR )\n",
    "\n",
    "framework.run_sequential(10)"
   ],
   "outputs": [],
   "execution_count": null
  },
  {
   "cell_type": "code",
   "id": "6eee205f8e64dee0",
   "metadata": {},
   "source": [],
   "outputs": [],
   "execution_count": null
  }
 ],
 "metadata": {
  "kernelspec": {
   "display_name": "Python3.11 (bor2)",
   "language": "python",
   "name": "venv2"
  },
  "language_info": {
   "codemirror_mode": {
    "name": "ipython",
    "version": 3
   },
   "file_extension": ".py",
   "mimetype": "text/x-python",
   "name": "python",
   "nbconvert_exporter": "python",
   "pygments_lexer": "ipython3",
   "version": "3.11.7"
  }
 },
 "nbformat": 4,
 "nbformat_minor": 5
}
